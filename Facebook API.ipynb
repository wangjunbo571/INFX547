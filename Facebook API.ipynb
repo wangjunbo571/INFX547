{
 "cells": [
  {
   "cell_type": "code",
   "execution_count": 4,
   "metadata": {},
   "outputs": [],
   "source": [
    "import facebook\n",
    "\n",
    "# prompt for credentials on the command-line,\n",
    "# get access to one or more pages\n",
    "#pages = fi.authenticate()\n",
    "# alternatively, pass an existing page token\n",
    "\n",
    "token = 'EAADGURIfP60BAAfLymQuB3sWkWvWrw5aCQVhCeWf51klK6BZA5UHBs3NuZCT3Pc12HD61r6Bovmq5e6gmnhnpwUdfn10itgZBv05E1Vntje963qsZCE3PpR3uKLAEtBLDdqmPiZAefRTV1TiYEaZABcIfIhbfAcsUOXeJbvameaZAt3Vt9xod3OnY5cugB1nykZD'\n",
    "app_token = '218051498688429|EzhgMbT74dvlpQ21EGLUip4NdxQ'\n",
    "graph = facebook.GraphAPI(access_token = token, version='2.8')\n",
    "\n",
    "data = graph.request('/search?q=University%20of%20Washington&type=page')"
   ]
  },
  {
   "cell_type": "code",
   "execution_count": 8,
   "metadata": {},
   "outputs": [
    {
     "name": "stdout",
     "output_type": "stream",
     "text": [
      "successfully save data\n"
     ]
    }
   ],
   "source": [
    "import json\n",
    "\n",
    "with open('Facebook API Data.json', 'w') as outfile:\n",
    "    json.dump(data, outfile)\n",
    "print \"successfully save data\""
   ]
  },
  {
   "cell_type": "code",
   "execution_count": 5,
   "metadata": {},
   "outputs": [
    {
     "data": {
      "text/plain": [
       "{u'data': [{u'id': u'8829726273', u'name': u'University of Washington'},\n",
       "  {u'id': u'196962653656', u'name': u'University of Washington'},\n",
       "  {u'id': u'59833387909',\n",
       "   u'name': u'Student Services, University of Washington Information School'},\n",
       "  {u'id': u'302874326391550',\n",
       "   u'name': u'University of Washington International Student Services (ISS)'},\n",
       "  {u'id': u'12935133694',\n",
       "   u'name': u'University of Washington Information School'},\n",
       "  {u'id': u'111740720118', u'name': u'University of Washington Tacoma'},\n",
       "  {u'id': u'103975906361680', u'name': u'University of Washington News'},\n",
       "  {u'id': u'48893138184',\n",
       "   u'name': u'University of Washington School of Public Health'},\n",
       "  {u'id': u'71731005912', u'name': u'The George Washington University'},\n",
       "  {u'id': u'254936981189026',\n",
       "   u'name': u'University of Washington Department of Bioengineering'},\n",
       "  {u'id': u'143269895697495', u'name': u'University of Washington Police'},\n",
       "  {u'id': u'150404455026515',\n",
       "   u'name': u'University of Washington Toastmasters'},\n",
       "  {u'id': u'144573448939971',\n",
       "   u'name': u'ASUW | Associated Students of the University of Washington'},\n",
       "  {u'id': u'60709880108', u'name': u'University of Washington Bothell'},\n",
       "  {u'id': u'45303624664',\n",
       "   u'name': u'University of Washington College of Engineering'},\n",
       "  {u'id': u'236921879674654',\n",
       "   u'name': u'Young Democrats of Washington State University'},\n",
       "  {u'id': u'15558217644',\n",
       "   u'name': u'University of Washington School of Music'},\n",
       "  {u'id': u'135699533714',\n",
       "   u'name': u'University of Washington Graduate School'},\n",
       "  {u'id': u'375755005828207',\n",
       "   u'name': u'Taiwanese Student Association at University of Washington (TSAUW)'},\n",
       "  {u'id': u'63057846659', u'name': u'University of Mary Washington'},\n",
       "  {u'id': u'178142078932564',\n",
       "   u'name': u'American University Washington College of Law'},\n",
       "  {u'id': u'109785352422426',\n",
       "   u'name': u'University of Washington Dream Project'},\n",
       "  {u'id': u'246286365226', u'name': u'University of Washington School of Art'},\n",
       "  {u'id': u'494359623909044',\n",
       "   u'name': u'University of Washington Foster Career Services'},\n",
       "  {u'id': u'257351204452553', u'name': u'SASE - University of Washington'}],\n",
       " u'paging': {u'cursors': {u'after': u'MjQZD', u'before': u'MAZDZD'},\n",
       "  u'next': u'https://graph.facebook.com/v2.9/search?access_token=EAADGURIfP60BAAfLymQuB3sWkWvWrw5aCQVhCeWf51klK6BZA5UHBs3NuZCT3Pc12HD61r6Bovmq5e6gmnhnpwUdfn10itgZBv05E1Vntje963qsZCE3PpR3uKLAEtBLDdqmPiZAefRTV1TiYEaZABcIfIhbfAcsUOXeJbvameaZAt3Vt9xod3OnY5cugB1nykZD&q=University+of+Washington&type=page&limit=25&after=MjQZD'}}"
      ]
     },
     "execution_count": 5,
     "metadata": {},
     "output_type": "execute_result"
    }
   ],
   "source": [
    "data"
   ]
  },
  {
   "cell_type": "code",
   "execution_count": null,
   "metadata": {
    "collapsed": true
   },
   "outputs": [],
   "source": []
  }
 ],
 "metadata": {
  "kernelspec": {
   "display_name": "Python 2",
   "language": "python",
   "name": "python2"
  },
  "language_info": {
   "codemirror_mode": {
    "name": "ipython",
    "version": 2
   },
   "file_extension": ".py",
   "mimetype": "text/x-python",
   "name": "python",
   "nbconvert_exporter": "python",
   "pygments_lexer": "ipython2",
   "version": "2.7.13"
  }
 },
 "nbformat": 4,
 "nbformat_minor": 2
}
