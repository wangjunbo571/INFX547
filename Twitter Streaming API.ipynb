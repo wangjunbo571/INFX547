{
 "cells": [
  {
   "cell_type": "code",
   "execution_count": 1,
   "metadata": {
    "scrolled": true
   },
   "outputs": [
    {
     "name": "stdout",
     "output_type": "stream",
     "text": [
      "Tweet 1 at 2017-05-14 15:59:44.035875.\n",
      "Ellapsed: 4.60 seconds\n",
      "\n",
      "Tweet 2 at 2017-05-14 15:59:45.389600.\n",
      "Ellapsed: 5.95 seconds\n",
      "\n",
      "Tweet 3 at 2017-05-14 16:00:03.943977.\n",
      "Ellapsed: 24.50 seconds\n",
      "\n",
      "Tweet 4 at 2017-05-14 16:00:08.046216.\n",
      "Ellapsed: 28.61 seconds\n",
      "\n",
      "Tweet 5 at 2017-05-14 16:00:22.167309.\n",
      "Ellapsed: 42.73 seconds\n",
      "\n",
      "Tweet 6 at 2017-05-14 16:00:30.116398.\n",
      "Ellapsed: 50.68 seconds\n",
      "\n",
      "Tweet 7 at 2017-05-14 16:00:36.037568.\n",
      "Ellapsed: 56.60 seconds\n",
      "\n",
      "Tweet 8 at 2017-05-14 16:00:58.722113.\n",
      "Ellapsed: 79.28 seconds\n",
      "\n",
      "Tweet 9 at 2017-05-14 16:01:11.709507.\n",
      "Ellapsed: 92.27 seconds\n",
      "\n",
      "Tweet 10 at 2017-05-14 16:01:28.367439.\n",
      "Ellapsed: 108.93 seconds\n",
      "\n"
     ]
    },
    {
     "ename": "SystemExit",
     "evalue": "Max tweets of 10 exceeded.  Killing stream... see <closed file 'Streaming dataSun May 14 15:59:39 2017.json', mode 'w' at 0x7f4c6ef456f0>",
     "output_type": "error",
     "traceback": [
      "An exception has occurred, use %tb to see the full traceback.\n",
      "\u001b[0;31mSystemExit\u001b[0m\u001b[0;31m:\u001b[0m Max tweets of 10 exceeded.  Killing stream... see <closed file 'Streaming dataSun May 14 15:59:39 2017.json', mode 'w' at 0x7f4c6ef456f0>\n"
     ]
    },
    {
     "name": "stderr",
     "output_type": "stream",
     "text": [
      "/home/fanyang2/anaconda2/envs/iDataMining/lib/python2.7/site-packages/IPython/core/interactiveshell.py:2889: UserWarning: To exit: use 'exit', 'quit', or Ctrl-D.\n",
      "  warn(\"To exit: use 'exit', 'quit', or Ctrl-D.\", stacklevel=1)\n"
     ]
    }
   ],
   "source": [
    "# Streaming API\n",
    "import sys\n",
    "import time\n",
    "import datetime\n",
    "import pandas as pd\n",
    "\n",
    "from tweepy import StreamListener\n",
    "from tweepy import OAuthHandler\n",
    "from tweepy import Stream\n",
    "from tweepy import API\n",
    "\n",
    "#Fill in your twitter dev info.\n",
    "consumer_key = '9qfh9E7NytEJir0x8DPhA0Wo3'\n",
    "consumer_secret = 'KXrazhottbw0htNyaz8ghC7JiPvmbuunqmDToqp1fGoqX2Cwa0'\n",
    "\n",
    "access_token ='775111751108923392-0i4ZTsWb11OgIBSI9ZoA7noTLdUwSQI'\n",
    "access_token_secret = 'prMoEZkGgvgOaWwI9WOlHuaNr4D6jkQPhZkWkh8ZPuxJo'\n",
    "\n",
    "#This handles Twitter authetification and the connection to Twitter Streaming API\n",
    "auth = OAuthHandler(consumer_key, consumer_secret)\n",
    "auth.set_access_token(access_token, access_token_secret)\n",
    "\n",
    "api = API(auth)\n",
    "\n",
    "#Print received tweets to stdout\n",
    "\n",
    "class StreamParser(StreamListener):\n",
    "    \"\"\" Controls how streaming data is parsed. Pass an outfile, or data will be writting to \n",
    "    sys.stdout (eg the screen)\n",
    "    \"\"\"\n",
    "    def __init__(self, outfile=None, max_tweets=5, max_seconds=30):\n",
    "        self.counter = 0\n",
    "        self.start_time = time.time()\n",
    "        # Set upper limits on maximum tweets or seconds before timeout\n",
    "        self.max_tweets = max_tweets\n",
    "        self.max_seconds = max_seconds\n",
    "        if outfile:\n",
    "            self.stdout = open(outfile, 'w')\n",
    "        else:\n",
    "            self.stdout = sys.stdout\n",
    "    \n",
    "    def on_data(self, data):\n",
    "        \"\"\" Data is a string, but formatted for json. Parses it\"\"\"\n",
    "        self.counter += 1\n",
    "        # time data is all timestamps.\n",
    "        current_time = time.time()\n",
    "        run_time = current_time - self.start_time\n",
    "                \n",
    "        # If we want to read time, easiest way is to convert from timestamp using datetime\n",
    "        formatted_time = datetime.datetime.now()\n",
    "            \n",
    "        # Technically, might not be the best place to put kill statements, but works well enough\n",
    "        if self.max_tweets:\n",
    "            if self.counter > self.max_tweets:\n",
    "                self._kill_stdout()\n",
    "                raise SystemExit('Max tweets of %s exceeded.  Killing stream... see %s' \\\n",
    "                             % (self.max_tweets, self.stdout))\n",
    "  \n",
    "        if self.max_seconds:\n",
    "            if run_time > self.max_seconds:\n",
    "                self._kill_stdout()\n",
    "                raise SystemExit('Max time of %s seconds exceeded.  Killing stream... see %s' \\\n",
    "                                 % (self.max_seconds, self.stdout))\n",
    "\n",
    "        print ('Tweet %s at %s.\\nEllapsed: %.2f seconds\\n' %(self.counter, formatted_time, run_time))\n",
    "\n",
    "        # Write to file, return True causes stream to continue I guess...\n",
    "        self.stdout.write(data)\n",
    "        return True\n",
    "\n",
    "    def _kill_stdout(self):\n",
    "        \"\"\" If self.stdout is a file, close it.  If sys.stdout, pass\"\"\"\n",
    "        if self.stdout is not sys.stdout:\n",
    "            self.stdout.close() \n",
    "    \n",
    "    def on_error(self, status):\n",
    "        print (status)\n",
    "\n",
    "import time\n",
    "now = time.strftime(\"%c\")\n",
    "\n",
    "# Stream 10 tweets, no matter the time it takes!\n",
    "listener = StreamParser(outfile='Streaming data[' + now + '].json', max_tweets=10, max_seconds=None)\n",
    "stream = Stream(auth, listener)\n",
    "\n",
    "#This line filter Twitter Streams to capture data by the keywords: 'python', 'javascript', 'ruby'\n",
    "stream.filter(track=['University of Washington','uw'])"
   ]
  },
  {
   "cell_type": "code",
   "execution_count": null,
   "metadata": {
    "collapsed": true,
    "scrolled": true
   },
   "outputs": [],
   "source": [
    "# data = pd.read_json('infx547d4.json', lines=True)\n",
    "# data"
   ]
  }
 ],
 "metadata": {
  "kernelspec": {
   "display_name": "Python 2",
   "language": "python",
   "name": "python2"
  },
  "language_info": {
   "codemirror_mode": {
    "name": "ipython",
    "version": 2
   },
   "file_extension": ".py",
   "mimetype": "text/x-python",
   "name": "python",
   "nbconvert_exporter": "python",
   "pygments_lexer": "ipython2",
   "version": "2.7.13"
  }
 },
 "nbformat": 4,
 "nbformat_minor": 1
}
