{
 "cells": [
  {
   "cell_type": "code",
   "execution_count": 1,
   "metadata": {},
   "outputs": [
    {
     "data": {
      "text/plain": [
       "u'0.19.2'"
      ]
     },
     "execution_count": 1,
     "metadata": {},
     "output_type": "execute_result"
    }
   ],
   "source": [
    "import pandas as pd\n",
    "pd.__version__"
   ]
  },
  {
   "cell_type": "code",
   "execution_count": 8,
   "metadata": {
    "scrolled": true
   },
   "outputs": [
    {
     "name": "stdout",
     "output_type": "stream",
     "text": [
      "[Status(ID=864977888474525697, ScreenName=jorgefioranelli, Created=Wed May 17 22:56:13 +0000 2017, Text=u'RT @CommitStrip: WannaCrypt - Bad code doesn\\u2019t pay (much)\\n https://t.co/KZcBSmupw9 https://t.co/Kqy29LF94v')]\n"
     ]
    }
   ],
   "source": [
    "# REST API\n",
    "import sys\n",
    "import json\n",
    "import pandas as pd\n",
    "\n",
    "#Fill in your twitter dev info.\n",
    "consumer_key = '9qfh9E7NytEJir0x8DPhA0Wo3'\n",
    "consumer_secret = 'KXrazhottbw0htNyaz8ghC7JiPvmbuunqmDToqp1fGoqX2Cwa0'\n",
    "\n",
    "access_token ='775111751108923392-0i4ZTsWb11OgIBSI9ZoA7noTLdUwSQI'\n",
    "access_token_secret = 'prMoEZkGgvgOaWwI9WOlHuaNr4D6jkQPhZkWkh8ZPuxJo'\n",
    "\n",
    "import twitter\n",
    "api = twitter.Api(consumer_key, consumer_secret, access_token, access_token_secret)\n",
    "# print api.VerifyCredentials()\n",
    "\n",
    "import time\n",
    "now = time.strftime(\"%c\")\n",
    "\n",
    "query = \"q=wannacrypt&result_type=recent&count=1\"\n",
    "\n",
    "data = api.GetSearch(raw_query= query)\n",
    "\n",
    "print data"
   ]
  },
  {
   "cell_type": "code",
   "execution_count": 10,
   "metadata": {},
   "outputs": [
    {
     "name": "stdout",
     "output_type": "stream",
     "text": [
      "{\n",
      "    \"result\": [\n",
      "        {\n",
      "            \"lang\": \"en\", \n",
      "            \"retweeted_status\": {\n",
      "                \"lang\": \"en\", \n",
      "                \"media\": [\n",
      "                    {\n",
      "                        \"expanded_url\": \"https://twitter.com/CommitStrip/status/864872128172175361/photo/1\", \n",
      "                        \"sizes\": {\n",
      "                            \"large\": {\n",
      "                                \"h\": 601, \n",
      "                                \"w\": 650, \n",
      "                                \"resize\": \"fit\"\n",
      "                            }, \n",
      "                            \"small\": {\n",
      "                                \"h\": 601, \n",
      "                                \"w\": 650, \n",
      "                                \"resize\": \"fit\"\n",
      "                            }, \n",
      "                            \"medium\": {\n",
      "                                \"h\": 601, \n",
      "                                \"w\": 650, \n",
      "                                \"resize\": \"fit\"\n",
      "                            }, \n",
      "                            \"thumb\": {\n",
      "                                \"h\": 150, \n",
      "                                \"w\": 150, \n",
      "                                \"resize\": \"crop\"\n",
      "                            }\n",
      "                        }, \n",
      "                        \"url\": \"https://t.co/Kqy29LF94v\", \n",
      "                        \"media_url_https\": \"https://pbs.twimg.com/media/DACkjO8WsAE4_NV.jpg\", \n",
      "                        \"display_url\": \"pic.twitter.com/Kqy29LF94v\", \n",
      "                        \"type\": \"photo\", \n",
      "                        \"id\": 864872053668753409, \n",
      "                        \"media_url\": \"http://pbs.twimg.com/media/DACkjO8WsAE4_NV.jpg\"\n",
      "                    }\n",
      "                ], \n",
      "                \"created_at\": \"Wed May 17 15:55:58 +0000 2017\", \n",
      "                \"hashtags\": [], \n",
      "                \"user_mentions\": [], \n",
      "                \"source\": \"<a href=\\\"http://twitter.com\\\" rel=\\\"nofollow\\\">Twitter Web Client</a>\", \n",
      "                \"id_str\": \"864872128172175361\", \n",
      "                \"urls\": [\n",
      "                    {\n",
      "                        \"url\": \"https://t.co/KZcBSmupw9\", \n",
      "                        \"expanded_url\": \"http://www.commitstrip.com/2017/05/17/wannacrypt-bad-code-doesnt-pay-much/\"\n",
      "                    }\n",
      "                ], \n",
      "                \"text\": \"WannaCrypt - Bad code doesn\\u2019t pay (much)\\n https://t.co/KZcBSmupw9 https://t.co/Kqy29LF94v\", \n",
      "                \"retweet_count\": 978, \n",
      "                \"id\": 864872128172175361, \n",
      "                \"favorite_count\": 1116, \n",
      "                \"user\": {\n",
      "                    \"id\": 2414205444, \n",
      "                    \"profile_sidebar_fill_color\": \"DDEEF6\", \n",
      "                    \"profile_text_color\": \"333333\", \n",
      "                    \"followers_count\": 45741, \n",
      "                    \"profile_background_color\": \"C0DEED\", \n",
      "                    \"listed_count\": 931, \n",
      "                    \"utc_offset\": -10800, \n",
      "                    \"statuses_count\": 586, \n",
      "                    \"description\": \"The blog relating the daily life of developers. Official english account.\", \n",
      "                    \"friends_count\": 7, \n",
      "                    \"profile_link_color\": \"1DA1F2\", \n",
      "                    \"profile_image_url\": \"http://pbs.twimg.com/profile_images/799176331623800832/ggd6_JbJ_normal.jpg\", \n",
      "                    \"geo_enabled\": true, \n",
      "                    \"profile_banner_url\": \"https://pbs.twimg.com/profile_banners/2414205444/1479373446\", \n",
      "                    \"profile_background_image_url\": \"http://abs.twimg.com/images/themes/theme1/bg.png\", \n",
      "                    \"screen_name\": \"CommitStrip\", \n",
      "                    \"lang\": \"en-gb\", \n",
      "                    \"favourites_count\": 289, \n",
      "                    \"name\": \"CommitStrip\", \n",
      "                    \"url\": \"http://t.co/g3AKujl1OV\", \n",
      "                    \"created_at\": \"Thu Mar 27 13:14:08 +0000 2014\", \n",
      "                    \"time_zone\": \"Brasilia\", \n",
      "                    \"default_profile\": true\n",
      "                }\n",
      "            }, \n",
      "            \"media\": [\n",
      "                {\n",
      "                    \"expanded_url\": \"https://twitter.com/CommitStrip/status/864872128172175361/photo/1\", \n",
      "                    \"sizes\": {\n",
      "                        \"large\": {\n",
      "                            \"h\": 601, \n",
      "                            \"w\": 650, \n",
      "                            \"resize\": \"fit\"\n",
      "                        }, \n",
      "                        \"small\": {\n",
      "                            \"h\": 601, \n",
      "                            \"w\": 650, \n",
      "                            \"resize\": \"fit\"\n",
      "                        }, \n",
      "                        \"medium\": {\n",
      "                            \"h\": 601, \n",
      "                            \"w\": 650, \n",
      "                            \"resize\": \"fit\"\n",
      "                        }, \n",
      "                        \"thumb\": {\n",
      "                            \"h\": 150, \n",
      "                            \"w\": 150, \n",
      "                            \"resize\": \"crop\"\n",
      "                        }\n",
      "                    }, \n",
      "                    \"url\": \"https://t.co/Kqy29LF94v\", \n",
      "                    \"media_url_https\": \"https://pbs.twimg.com/media/DACkjO8WsAE4_NV.jpg\", \n",
      "                    \"display_url\": \"pic.twitter.com/Kqy29LF94v\", \n",
      "                    \"type\": \"photo\", \n",
      "                    \"id\": 864872053668753409, \n",
      "                    \"media_url\": \"http://pbs.twimg.com/media/DACkjO8WsAE4_NV.jpg\"\n",
      "                }\n",
      "            ], \n",
      "            \"created_at\": \"Wed May 17 22:56:13 +0000 2017\", \n",
      "            \"hashtags\": [], \n",
      "            \"user_mentions\": [\n",
      "                {\n",
      "                    \"screen_name\": \"CommitStrip\", \n",
      "                    \"id\": 2414205444, \n",
      "                    \"name\": \"CommitStrip\"\n",
      "                }\n",
      "            ], \n",
      "            \"source\": \"<a href=\\\"http://twitter.com/download/iphone\\\" rel=\\\"nofollow\\\">Twitter for iPhone</a>\", \n",
      "            \"id_str\": \"864977888474525697\", \n",
      "            \"urls\": [\n",
      "                {\n",
      "                    \"url\": \"https://t.co/KZcBSmupw9\", \n",
      "                    \"expanded_url\": \"http://www.commitstrip.com/2017/05/17/wannacrypt-bad-code-doesnt-pay-much/\"\n",
      "                }\n",
      "            ], \n",
      "            \"text\": \"RT @CommitStrip: WannaCrypt - Bad code doesn\\u2019t pay (much)\\n https://t.co/KZcBSmupw9 https://t.co/Kqy29LF94v\", \n",
      "            \"retweet_count\": 978, \n",
      "            \"id\": 864977888474525697, \n",
      "            \"user\": {\n",
      "                \"id\": 90947011, \n",
      "                \"profile_sidebar_fill_color\": \"DAECF4\", \n",
      "                \"profile_text_color\": \"663B12\", \n",
      "                \"followers_count\": 911, \n",
      "                \"location\": \"New York, USA\", \n",
      "                \"profile_background_color\": \"C6E2EE\", \n",
      "                \"listed_count\": 106, \n",
      "                \"utc_offset\": 36000, \n",
      "                \"statuses_count\": 3499, \n",
      "                \"description\": \"https://t.co/DjDdahk2rb Associate Director | F# | https://t.co/aVZ68yPoNf | https://t.co/yghhrjJ6PN | Functional Programming | Domain-Driven Design\", \n",
      "                \"friends_count\": 194, \n",
      "                \"profile_link_color\": \"1F98C7\", \n",
      "                \"profile_image_url\": \"http://pbs.twimg.com/profile_images/723630514742145024/mWtsoe5i_normal.jpg\", \n",
      "                \"geo_enabled\": true, \n",
      "                \"profile_banner_url\": \"https://pbs.twimg.com/profile_banners/90947011/1398287993\", \n",
      "                \"profile_background_image_url\": \"http://abs.twimg.com/images/themes/theme2/bg.gif\", \n",
      "                \"screen_name\": \"jorgefioranelli\", \n",
      "                \"lang\": \"en\", \n",
      "                \"favourites_count\": 5456, \n",
      "                \"name\": \"Jorge Fioranelli\", \n",
      "                \"created_at\": \"Wed Nov 18 20:06:46 +0000 2009\", \n",
      "                \"time_zone\": \"Sydney\"\n",
      "            }\n",
      "        }\n",
      "    ]\n",
      "}\n",
      "data saved successfully!\n"
     ]
    }
   ],
   "source": [
    "result['result'] = []\n",
    "for item in data:\n",
    "    result['result'].append(json.loads(item.AsJsonString()))\n",
    "print json.dumps(result, indent=4)\n",
    "\n",
    "with open('preforERD.json', 'w') as file:\n",
    "    json.dump(result, file)\n",
    "    \n",
    "    print('data saved successfully!')"
   ]
  },
  {
   "cell_type": "code",
   "execution_count": 7,
   "metadata": {},
   "outputs": [
    {
     "name": "stdout",
     "output_type": "stream",
     "text": [
      "successfully save data into local file: 'data[Sun May 14 16:31:05 2017].json'\n"
     ]
    }
   ],
   "source": [
    "# save data\n",
    "with open('REST data['+now+'].json', 'w') as outfile:\n",
    "    status = {}\n",
    "    array = []\n",
    "    for item in data:\n",
    "        array.append(json.loads(item.AsJsonString()))\n",
    "    status[\"status\"] = array\n",
    "    json.dump(json.dumps(status), outfile)\n",
    "#         outfile.write(item.AsJsonString())\n",
    "    \n",
    "print \"successfully save data into local file: 'data[\"+now+\"].json'\""
   ]
  },
  {
   "cell_type": "code",
   "execution_count": null,
   "metadata": {
    "collapsed": true
   },
   "outputs": [],
   "source": []
  }
 ],
 "metadata": {
  "kernelspec": {
   "display_name": "Python 2",
   "language": "python",
   "name": "python2"
  },
  "language_info": {
   "codemirror_mode": {
    "name": "ipython",
    "version": 2
   },
   "file_extension": ".py",
   "mimetype": "text/x-python",
   "name": "python",
   "nbconvert_exporter": "python",
   "pygments_lexer": "ipython2",
   "version": "2.7.13"
  }
 },
 "nbformat": 4,
 "nbformat_minor": 2
}
